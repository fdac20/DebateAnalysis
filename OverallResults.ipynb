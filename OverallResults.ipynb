{
 "cells": [
  {
   "cell_type": "markdown",
   "metadata": {},
   "source": [
    "<h1>Overall Findings</h1>\n",
    "\n",
    "<br/>\n",
    "<h2>1960, 1976, and 1980 Elections</h2>\n",
    "<ul>\n",
    "    <li>In the 1960 Elections, the losing candidates Nixon and Carter said their opponent's name far more than their opponents said there names. This could mean that talking about the candidates rather than the issues could negatively impact a candidate's performance in an election. While Jimmy Carter says Gerald Ford's name more than vice versa, but it may have proven more effective in that race because of the Watergate scandal and the Nixon Pardon. </li>\n",
    "    <li>The candidate that said the following words more would win all three elections. - \"believe, think\"</li>\n",
    "</ul>"
   ]
  }
 ],
 "metadata": {
  "kernelspec": {
   "display_name": "Python 3",
   "language": "python",
   "name": "python3"
  },
  "language_info": {
   "codemirror_mode": {
    "name": "ipython",
    "version": 3
   },
   "file_extension": ".py",
   "mimetype": "text/x-python",
   "name": "python",
   "nbconvert_exporter": "python",
   "pygments_lexer": "ipython3",
   "version": "3.8.2"
  }
 },
 "nbformat": 4,
 "nbformat_minor": 4
}
