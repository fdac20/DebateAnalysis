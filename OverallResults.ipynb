{
 "cells": [
  {
   "cell_type": "markdown",
   "metadata": {},
   "source": [
    "<h1>Overall Findings</h1>\n",
    "\n",
    "<br/>\n",
    "<h2>Sentiment Analysis</h2>\n",
    "<ul>\n",
    "    <li><strong>Winning Candidates\n",
    "{'neg': 0.086, 'neu': 0.773, 'pos': 0.142, 'compound': 1.0}\n",
    " Losing Candidates\n",
    "        {'neg': 0.083, 'neu': 0.773, 'pos': 0.144, 'compound': 1.0}</strong></li>\n",
    "    <li>The average positive, neutral, and negative percentages for both winners and losers is roughly the same. </li>\n",
    "    <li>Due to the conversations being mainly about issues such as trade and taxation, a majority of the talk is considered neutral.</li>\n",
    "    <li>Generally, if a candidate is running for a second term, they will speak a little bit more positively. If the candidate is a challenger, they may be more likely to use more negative language.</li>\n",
    "    <br/>\n",
    "    <li><strong>Democrats\n",
    "{'neg': 0.086, 'neu': 0.774, 'pos': 0.14, 'compound': 1.0}\n",
    " Republicans\n",
    "        {'neg': 0.082, 'neu': 0.772, 'pos': 0.147, 'compound': 1.0} </strong></li>\n",
    "    <li>Generally speaking, the two parties use a similar sentiment in their language.</li>\n",
    "    \n",
    "</ul>\n",
    "<h2>Word Count</h2>\n",
    "<ul>\n",
    "    <li><strong>Winning Candidates: 4.347268518729053 Losing Candidates 4.354639316239316</strong></li>\n",
    "    <li>The average word length for a candidate is about 4.35.</li>\n",
    "    <li><strong>Democrats: 4.3845054900200005 Republicans 4.317131587006303</strong></li>\n",
    "    <li>The average word length of candidates from the two parties is very similar. However, the Democrats tend to use slightly longer than the Republicans.</li>\n",
    "</ul>"
   ]
  },
  {
   "cell_type": "code",
   "execution_count": null,
   "metadata": {},
   "outputs": [],
   "source": []
  }
 ],
 "metadata": {
  "kernelspec": {
   "display_name": "Python 3",
   "language": "python",
   "name": "python3"
  },
  "language_info": {
   "codemirror_mode": {
    "name": "ipython",
    "version": 3
   },
   "file_extension": ".py",
   "mimetype": "text/x-python",
   "name": "python",
   "nbconvert_exporter": "python",
   "pygments_lexer": "ipython3",
   "version": "3.8.2"
  }
 },
 "nbformat": 4,
 "nbformat_minor": 4
}
